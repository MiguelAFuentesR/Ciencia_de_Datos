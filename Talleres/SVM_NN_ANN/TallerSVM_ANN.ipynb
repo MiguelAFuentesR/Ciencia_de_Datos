{
  "nbformat": 4,
  "nbformat_minor": 0,
  "metadata": {
    "colab": {
      "provenance": [],
      "collapsed_sections": []
    },
    "kernelspec": {
      "name": "python3",
      "display_name": "Python 3"
    },
    "language_info": {
      "name": "python"
    }
  },
  "cells": [
    {
      "cell_type": "code",
      "execution_count": null,
      "metadata": {
        "id": "1LwtZGIQQ2Du"
      },
      "outputs": [],
      "source": [
        "import pandas as pd\n",
        "import matplotlib.pyplot as plt\n",
        "from sklearn.datasets import load_digits\n",
        "from sklearn.model_selection import train_test_split\n",
        "from sklearn.svm import SVC"
      ]
    },
    {
      "cell_type": "code",
      "source": [
        "df = pd.read_excel('Date_Fruit_Datasets.xlsx',sheet_name='Date_Fruit_Datasets' ) \n",
        "df"
      ],
      "metadata": {
        "colab": {
          "base_uri": "https://localhost:8080/",
          "height": 488
        },
        "id": "AQDDi8UDYEYO",
        "outputId": "db6db1d9-789f-4441-cdfc-3243d40dfd22"
      },
      "execution_count": null,
      "outputs": [
        {
          "output_type": "execute_result",
          "data": {
            "text/plain": [
              "       AREA  PERIMETER  MAJOR_AXIS  MINOR_AXIS  ECCENTRICITY   EQDIASQ  \\\n",
              "0    422163  2378.9080    837.8484    645.6693        0.6373  733.1539   \n",
              "1    338136  2085.1440    723.8198    595.2073        0.5690  656.1464   \n",
              "2    526843  2647.3940    940.7379    715.3638        0.6494  819.0222   \n",
              "3    416063  2351.2100    827.9804    645.2988        0.6266  727.8378   \n",
              "4    347562  2160.3540    763.9877    582.8359        0.6465  665.2291   \n",
              "..      ...        ...         ...         ...           ...       ...   \n",
              "893  255403  1925.3650    691.8453    477.1796        0.7241  570.2536   \n",
              "894  365924  2664.8230    855.4633    551.5447        0.7644  682.5752   \n",
              "895  254330  1926.7360    747.4943    435.6219        0.8126  569.0545   \n",
              "896  238955  1906.2679    716.6485    441.8297        0.7873  551.5859   \n",
              "897  343792  2289.2720    823.8438    534.7757        0.7607  661.6113   \n",
              "\n",
              "     SOLIDITY  CONVEX_AREA  EXTENT  ASPECT_RATIO  ...  KurtosisRR  KurtosisRG  \\\n",
              "0      0.9947       424428  0.7831        1.2976  ...      3.2370      2.9574   \n",
              "1      0.9974       339014  0.7795        1.2161  ...      2.6228      2.6350   \n",
              "2      0.9962       528876  0.7657        1.3150  ...      3.7516      3.8611   \n",
              "3      0.9948       418255  0.7759        1.2831  ...      5.0401      8.6136   \n",
              "4      0.9908       350797  0.7569        1.3108  ...      2.7016      2.9761   \n",
              "..        ...          ...     ...           ...  ...         ...         ...   \n",
              "893    0.9785       261028  0.7269        1.4499  ...      2.2423      2.3704   \n",
              "894    0.9466       386566  0.6695        1.5510  ...      3.4109      3.5805   \n",
              "895    0.9925       256255  0.7240        1.7159  ...      2.2759      2.5090   \n",
              "896    0.9604       248795  0.6954        1.6220  ...      2.6769      2.6874   \n",
              "897    0.9781       351472  0.6941        1.5405  ...      2.5138      3.0369   \n",
              "\n",
              "     KurtosisRB    EntropyRR    EntropyRG    EntropyRB  ALLdaub4RR  \\\n",
              "0        4.2287 -59191263232 -50714214400 -39922372608     58.7255   \n",
              "1        3.1704 -34233065472 -37462601728 -31477794816     50.0259   \n",
              "2        4.7192 -93948354560 -74738221056 -60311207936     65.4772   \n",
              "3        8.2618 -32074307584 -32060925952 -29575010304     43.3900   \n",
              "4        4.4146 -39980974080 -35980042240 -25593278464     52.7743   \n",
              "..          ...          ...          ...          ...         ...   \n",
              "893      2.7202 -25296416768 -19168882688 -18473392128     49.0869   \n",
              "894      3.9910 -31605219328 -21945366528 -19277905920     46.8086   \n",
              "895      2.6951 -22242772992 -19594921984 -17592152064     44.1325   \n",
              "896      2.7991 -26048595968 -21299822592 -19809978368     51.2267   \n",
              "897      3.0865 -31983476736 -20482514944 -21219354624     47.3454   \n",
              "\n",
              "     ALLdaub4RG  ALLdaub4RB  Class  \n",
              "0       54.9554     47.8400  BERHI  \n",
              "1       52.8168     47.8315  BERHI  \n",
              "2       59.2860     51.9378  BERHI  \n",
              "3       44.1259     41.1882  BERHI  \n",
              "4       50.9080     42.6666  BERHI  \n",
              "..          ...         ...    ...  \n",
              "893     43.0422     42.4153  SOGAY  \n",
              "894     39.1046     36.5502  SOGAY  \n",
              "895     40.7986     40.9769  SOGAY  \n",
              "896     45.7162     45.6260  SOGAY  \n",
              "897     38.6966     39.6738  SOGAY  \n",
              "\n",
              "[898 rows x 35 columns]"
            ],
            "text/html": [
              "\n",
              "  <div id=\"df-c5a72f25-69c4-4419-8f61-253fa3a77585\">\n",
              "    <div class=\"colab-df-container\">\n",
              "      <div>\n",
              "<style scoped>\n",
              "    .dataframe tbody tr th:only-of-type {\n",
              "        vertical-align: middle;\n",
              "    }\n",
              "\n",
              "    .dataframe tbody tr th {\n",
              "        vertical-align: top;\n",
              "    }\n",
              "\n",
              "    .dataframe thead th {\n",
              "        text-align: right;\n",
              "    }\n",
              "</style>\n",
              "<table border=\"1\" class=\"dataframe\">\n",
              "  <thead>\n",
              "    <tr style=\"text-align: right;\">\n",
              "      <th></th>\n",
              "      <th>AREA</th>\n",
              "      <th>PERIMETER</th>\n",
              "      <th>MAJOR_AXIS</th>\n",
              "      <th>MINOR_AXIS</th>\n",
              "      <th>ECCENTRICITY</th>\n",
              "      <th>EQDIASQ</th>\n",
              "      <th>SOLIDITY</th>\n",
              "      <th>CONVEX_AREA</th>\n",
              "      <th>EXTENT</th>\n",
              "      <th>ASPECT_RATIO</th>\n",
              "      <th>...</th>\n",
              "      <th>KurtosisRR</th>\n",
              "      <th>KurtosisRG</th>\n",
              "      <th>KurtosisRB</th>\n",
              "      <th>EntropyRR</th>\n",
              "      <th>EntropyRG</th>\n",
              "      <th>EntropyRB</th>\n",
              "      <th>ALLdaub4RR</th>\n",
              "      <th>ALLdaub4RG</th>\n",
              "      <th>ALLdaub4RB</th>\n",
              "      <th>Class</th>\n",
              "    </tr>\n",
              "  </thead>\n",
              "  <tbody>\n",
              "    <tr>\n",
              "      <th>0</th>\n",
              "      <td>422163</td>\n",
              "      <td>2378.9080</td>\n",
              "      <td>837.8484</td>\n",
              "      <td>645.6693</td>\n",
              "      <td>0.6373</td>\n",
              "      <td>733.1539</td>\n",
              "      <td>0.9947</td>\n",
              "      <td>424428</td>\n",
              "      <td>0.7831</td>\n",
              "      <td>1.2976</td>\n",
              "      <td>...</td>\n",
              "      <td>3.2370</td>\n",
              "      <td>2.9574</td>\n",
              "      <td>4.2287</td>\n",
              "      <td>-59191263232</td>\n",
              "      <td>-50714214400</td>\n",
              "      <td>-39922372608</td>\n",
              "      <td>58.7255</td>\n",
              "      <td>54.9554</td>\n",
              "      <td>47.8400</td>\n",
              "      <td>BERHI</td>\n",
              "    </tr>\n",
              "    <tr>\n",
              "      <th>1</th>\n",
              "      <td>338136</td>\n",
              "      <td>2085.1440</td>\n",
              "      <td>723.8198</td>\n",
              "      <td>595.2073</td>\n",
              "      <td>0.5690</td>\n",
              "      <td>656.1464</td>\n",
              "      <td>0.9974</td>\n",
              "      <td>339014</td>\n",
              "      <td>0.7795</td>\n",
              "      <td>1.2161</td>\n",
              "      <td>...</td>\n",
              "      <td>2.6228</td>\n",
              "      <td>2.6350</td>\n",
              "      <td>3.1704</td>\n",
              "      <td>-34233065472</td>\n",
              "      <td>-37462601728</td>\n",
              "      <td>-31477794816</td>\n",
              "      <td>50.0259</td>\n",
              "      <td>52.8168</td>\n",
              "      <td>47.8315</td>\n",
              "      <td>BERHI</td>\n",
              "    </tr>\n",
              "    <tr>\n",
              "      <th>2</th>\n",
              "      <td>526843</td>\n",
              "      <td>2647.3940</td>\n",
              "      <td>940.7379</td>\n",
              "      <td>715.3638</td>\n",
              "      <td>0.6494</td>\n",
              "      <td>819.0222</td>\n",
              "      <td>0.9962</td>\n",
              "      <td>528876</td>\n",
              "      <td>0.7657</td>\n",
              "      <td>1.3150</td>\n",
              "      <td>...</td>\n",
              "      <td>3.7516</td>\n",
              "      <td>3.8611</td>\n",
              "      <td>4.7192</td>\n",
              "      <td>-93948354560</td>\n",
              "      <td>-74738221056</td>\n",
              "      <td>-60311207936</td>\n",
              "      <td>65.4772</td>\n",
              "      <td>59.2860</td>\n",
              "      <td>51.9378</td>\n",
              "      <td>BERHI</td>\n",
              "    </tr>\n",
              "    <tr>\n",
              "      <th>3</th>\n",
              "      <td>416063</td>\n",
              "      <td>2351.2100</td>\n",
              "      <td>827.9804</td>\n",
              "      <td>645.2988</td>\n",
              "      <td>0.6266</td>\n",
              "      <td>727.8378</td>\n",
              "      <td>0.9948</td>\n",
              "      <td>418255</td>\n",
              "      <td>0.7759</td>\n",
              "      <td>1.2831</td>\n",
              "      <td>...</td>\n",
              "      <td>5.0401</td>\n",
              "      <td>8.6136</td>\n",
              "      <td>8.2618</td>\n",
              "      <td>-32074307584</td>\n",
              "      <td>-32060925952</td>\n",
              "      <td>-29575010304</td>\n",
              "      <td>43.3900</td>\n",
              "      <td>44.1259</td>\n",
              "      <td>41.1882</td>\n",
              "      <td>BERHI</td>\n",
              "    </tr>\n",
              "    <tr>\n",
              "      <th>4</th>\n",
              "      <td>347562</td>\n",
              "      <td>2160.3540</td>\n",
              "      <td>763.9877</td>\n",
              "      <td>582.8359</td>\n",
              "      <td>0.6465</td>\n",
              "      <td>665.2291</td>\n",
              "      <td>0.9908</td>\n",
              "      <td>350797</td>\n",
              "      <td>0.7569</td>\n",
              "      <td>1.3108</td>\n",
              "      <td>...</td>\n",
              "      <td>2.7016</td>\n",
              "      <td>2.9761</td>\n",
              "      <td>4.4146</td>\n",
              "      <td>-39980974080</td>\n",
              "      <td>-35980042240</td>\n",
              "      <td>-25593278464</td>\n",
              "      <td>52.7743</td>\n",
              "      <td>50.9080</td>\n",
              "      <td>42.6666</td>\n",
              "      <td>BERHI</td>\n",
              "    </tr>\n",
              "    <tr>\n",
              "      <th>...</th>\n",
              "      <td>...</td>\n",
              "      <td>...</td>\n",
              "      <td>...</td>\n",
              "      <td>...</td>\n",
              "      <td>...</td>\n",
              "      <td>...</td>\n",
              "      <td>...</td>\n",
              "      <td>...</td>\n",
              "      <td>...</td>\n",
              "      <td>...</td>\n",
              "      <td>...</td>\n",
              "      <td>...</td>\n",
              "      <td>...</td>\n",
              "      <td>...</td>\n",
              "      <td>...</td>\n",
              "      <td>...</td>\n",
              "      <td>...</td>\n",
              "      <td>...</td>\n",
              "      <td>...</td>\n",
              "      <td>...</td>\n",
              "      <td>...</td>\n",
              "    </tr>\n",
              "    <tr>\n",
              "      <th>893</th>\n",
              "      <td>255403</td>\n",
              "      <td>1925.3650</td>\n",
              "      <td>691.8453</td>\n",
              "      <td>477.1796</td>\n",
              "      <td>0.7241</td>\n",
              "      <td>570.2536</td>\n",
              "      <td>0.9785</td>\n",
              "      <td>261028</td>\n",
              "      <td>0.7269</td>\n",
              "      <td>1.4499</td>\n",
              "      <td>...</td>\n",
              "      <td>2.2423</td>\n",
              "      <td>2.3704</td>\n",
              "      <td>2.7202</td>\n",
              "      <td>-25296416768</td>\n",
              "      <td>-19168882688</td>\n",
              "      <td>-18473392128</td>\n",
              "      <td>49.0869</td>\n",
              "      <td>43.0422</td>\n",
              "      <td>42.4153</td>\n",
              "      <td>SOGAY</td>\n",
              "    </tr>\n",
              "    <tr>\n",
              "      <th>894</th>\n",
              "      <td>365924</td>\n",
              "      <td>2664.8230</td>\n",
              "      <td>855.4633</td>\n",
              "      <td>551.5447</td>\n",
              "      <td>0.7644</td>\n",
              "      <td>682.5752</td>\n",
              "      <td>0.9466</td>\n",
              "      <td>386566</td>\n",
              "      <td>0.6695</td>\n",
              "      <td>1.5510</td>\n",
              "      <td>...</td>\n",
              "      <td>3.4109</td>\n",
              "      <td>3.5805</td>\n",
              "      <td>3.9910</td>\n",
              "      <td>-31605219328</td>\n",
              "      <td>-21945366528</td>\n",
              "      <td>-19277905920</td>\n",
              "      <td>46.8086</td>\n",
              "      <td>39.1046</td>\n",
              "      <td>36.5502</td>\n",
              "      <td>SOGAY</td>\n",
              "    </tr>\n",
              "    <tr>\n",
              "      <th>895</th>\n",
              "      <td>254330</td>\n",
              "      <td>1926.7360</td>\n",
              "      <td>747.4943</td>\n",
              "      <td>435.6219</td>\n",
              "      <td>0.8126</td>\n",
              "      <td>569.0545</td>\n",
              "      <td>0.9925</td>\n",
              "      <td>256255</td>\n",
              "      <td>0.7240</td>\n",
              "      <td>1.7159</td>\n",
              "      <td>...</td>\n",
              "      <td>2.2759</td>\n",
              "      <td>2.5090</td>\n",
              "      <td>2.6951</td>\n",
              "      <td>-22242772992</td>\n",
              "      <td>-19594921984</td>\n",
              "      <td>-17592152064</td>\n",
              "      <td>44.1325</td>\n",
              "      <td>40.7986</td>\n",
              "      <td>40.9769</td>\n",
              "      <td>SOGAY</td>\n",
              "    </tr>\n",
              "    <tr>\n",
              "      <th>896</th>\n",
              "      <td>238955</td>\n",
              "      <td>1906.2679</td>\n",
              "      <td>716.6485</td>\n",
              "      <td>441.8297</td>\n",
              "      <td>0.7873</td>\n",
              "      <td>551.5859</td>\n",
              "      <td>0.9604</td>\n",
              "      <td>248795</td>\n",
              "      <td>0.6954</td>\n",
              "      <td>1.6220</td>\n",
              "      <td>...</td>\n",
              "      <td>2.6769</td>\n",
              "      <td>2.6874</td>\n",
              "      <td>2.7991</td>\n",
              "      <td>-26048595968</td>\n",
              "      <td>-21299822592</td>\n",
              "      <td>-19809978368</td>\n",
              "      <td>51.2267</td>\n",
              "      <td>45.7162</td>\n",
              "      <td>45.6260</td>\n",
              "      <td>SOGAY</td>\n",
              "    </tr>\n",
              "    <tr>\n",
              "      <th>897</th>\n",
              "      <td>343792</td>\n",
              "      <td>2289.2720</td>\n",
              "      <td>823.8438</td>\n",
              "      <td>534.7757</td>\n",
              "      <td>0.7607</td>\n",
              "      <td>661.6113</td>\n",
              "      <td>0.9781</td>\n",
              "      <td>351472</td>\n",
              "      <td>0.6941</td>\n",
              "      <td>1.5405</td>\n",
              "      <td>...</td>\n",
              "      <td>2.5138</td>\n",
              "      <td>3.0369</td>\n",
              "      <td>3.0865</td>\n",
              "      <td>-31983476736</td>\n",
              "      <td>-20482514944</td>\n",
              "      <td>-21219354624</td>\n",
              "      <td>47.3454</td>\n",
              "      <td>38.6966</td>\n",
              "      <td>39.6738</td>\n",
              "      <td>SOGAY</td>\n",
              "    </tr>\n",
              "  </tbody>\n",
              "</table>\n",
              "<p>898 rows × 35 columns</p>\n",
              "</div>\n",
              "      <button class=\"colab-df-convert\" onclick=\"convertToInteractive('df-c5a72f25-69c4-4419-8f61-253fa3a77585')\"\n",
              "              title=\"Convert this dataframe to an interactive table.\"\n",
              "              style=\"display:none;\">\n",
              "        \n",
              "  <svg xmlns=\"http://www.w3.org/2000/svg\" height=\"24px\"viewBox=\"0 0 24 24\"\n",
              "       width=\"24px\">\n",
              "    <path d=\"M0 0h24v24H0V0z\" fill=\"none\"/>\n",
              "    <path d=\"M18.56 5.44l.94 2.06.94-2.06 2.06-.94-2.06-.94-.94-2.06-.94 2.06-2.06.94zm-11 1L8.5 8.5l.94-2.06 2.06-.94-2.06-.94L8.5 2.5l-.94 2.06-2.06.94zm10 10l.94 2.06.94-2.06 2.06-.94-2.06-.94-.94-2.06-.94 2.06-2.06.94z\"/><path d=\"M17.41 7.96l-1.37-1.37c-.4-.4-.92-.59-1.43-.59-.52 0-1.04.2-1.43.59L10.3 9.45l-7.72 7.72c-.78.78-.78 2.05 0 2.83L4 21.41c.39.39.9.59 1.41.59.51 0 1.02-.2 1.41-.59l7.78-7.78 2.81-2.81c.8-.78.8-2.07 0-2.86zM5.41 20L4 18.59l7.72-7.72 1.47 1.35L5.41 20z\"/>\n",
              "  </svg>\n",
              "      </button>\n",
              "      \n",
              "  <style>\n",
              "    .colab-df-container {\n",
              "      display:flex;\n",
              "      flex-wrap:wrap;\n",
              "      gap: 12px;\n",
              "    }\n",
              "\n",
              "    .colab-df-convert {\n",
              "      background-color: #E8F0FE;\n",
              "      border: none;\n",
              "      border-radius: 50%;\n",
              "      cursor: pointer;\n",
              "      display: none;\n",
              "      fill: #1967D2;\n",
              "      height: 32px;\n",
              "      padding: 0 0 0 0;\n",
              "      width: 32px;\n",
              "    }\n",
              "\n",
              "    .colab-df-convert:hover {\n",
              "      background-color: #E2EBFA;\n",
              "      box-shadow: 0px 1px 2px rgba(60, 64, 67, 0.3), 0px 1px 3px 1px rgba(60, 64, 67, 0.15);\n",
              "      fill: #174EA6;\n",
              "    }\n",
              "\n",
              "    [theme=dark] .colab-df-convert {\n",
              "      background-color: #3B4455;\n",
              "      fill: #D2E3FC;\n",
              "    }\n",
              "\n",
              "    [theme=dark] .colab-df-convert:hover {\n",
              "      background-color: #434B5C;\n",
              "      box-shadow: 0px 1px 3px 1px rgba(0, 0, 0, 0.15);\n",
              "      filter: drop-shadow(0px 1px 2px rgba(0, 0, 0, 0.3));\n",
              "      fill: #FFFFFF;\n",
              "    }\n",
              "  </style>\n",
              "\n",
              "      <script>\n",
              "        const buttonEl =\n",
              "          document.querySelector('#df-c5a72f25-69c4-4419-8f61-253fa3a77585 button.colab-df-convert');\n",
              "        buttonEl.style.display =\n",
              "          google.colab.kernel.accessAllowed ? 'block' : 'none';\n",
              "\n",
              "        async function convertToInteractive(key) {\n",
              "          const element = document.querySelector('#df-c5a72f25-69c4-4419-8f61-253fa3a77585');\n",
              "          const dataTable =\n",
              "            await google.colab.kernel.invokeFunction('convertToInteractive',\n",
              "                                                     [key], {});\n",
              "          if (!dataTable) return;\n",
              "\n",
              "          const docLinkHtml = 'Like what you see? Visit the ' +\n",
              "            '<a target=\"_blank\" href=https://colab.research.google.com/notebooks/data_table.ipynb>data table notebook</a>'\n",
              "            + ' to learn more about interactive tables.';\n",
              "          element.innerHTML = '';\n",
              "          dataTable['output_type'] = 'display_data';\n",
              "          await google.colab.output.renderOutput(dataTable, element);\n",
              "          const docLink = document.createElement('div');\n",
              "          docLink.innerHTML = docLinkHtml;\n",
              "          element.appendChild(docLink);\n",
              "        }\n",
              "      </script>\n",
              "    </div>\n",
              "  </div>\n",
              "  "
            ]
          },
          "metadata": {},
          "execution_count": 3
        }
      ]
    },
    {
      "cell_type": "code",
      "source": [
        "#34 columnas , la ultima tipo de fruta \n",
        "#Target ultima columna , data hasta la columna 33\n",
        "x_train, x_test, y_train, y_test = train_test_split(df.iloc[:,:33], df.iloc[:,34])"
      ],
      "metadata": {
        "id": "VuVl6VJFdWdI"
      },
      "execution_count": null,
      "outputs": []
    },
    {
      "cell_type": "code",
      "source": [
        "#print(x_train)\n",
        "#print(x_test)\n",
        "#print(y_train)\n",
        "#print(y_test)"
      ],
      "metadata": {
        "id": "US3AEI6dd2XD"
      },
      "execution_count": null,
      "outputs": []
    },
    {
      "cell_type": "code",
      "source": [
        "clf = SVC(kernel='rbf',gamma='scale', C=2)\n",
        "\n",
        "clf.fit(x_train, y_train);\n",
        "clf.score(x_train, y_train);\n",
        "\n",
        "clf.score(x_test, y_test);\n",
        "\n",
        "Prediccion = clf.predict(x_test[-1:])\n",
        "\n",
        "print(\"El Score del Entranamiento es :\",clf.score(x_train, y_train))\n",
        "print(\"El Score del Test es :\",clf.score(x_test, y_test))\n",
        "print(Prediccion)"
      ],
      "metadata": {
        "id": "ycRivgFZeL6Y",
        "colab": {
          "base_uri": "https://localhost:8080/"
        },
        "outputId": "9b71be01-3387-44f3-a658-16b28b891ff3"
      },
      "execution_count": null,
      "outputs": [
        {
          "output_type": "stream",
          "name": "stdout",
          "text": [
            "El Score del Entranamiento es : 0.6953937592867756\n",
            "El Score del Test es : 0.7244444444444444\n",
            "['SAFAVI']\n"
          ]
        }
      ]
    },
    {
      "cell_type": "markdown",
      "source": [
        "## Utilizando ANN "
      ],
      "metadata": {
        "id": "6x31ZcdXUCQ6"
      }
    },
    {
      "cell_type": "code",
      "source": [
        "import sklearn\n",
        "import matplotlib.pyplot as plt\n",
        "from sklearn.metrics import plot_confusion_matrix"
      ],
      "metadata": {
        "id": "voqQrKiWUHfm"
      },
      "execution_count": null,
      "outputs": []
    },
    {
      "cell_type": "code",
      "source": [
        "features = df.iloc[:,:33]; #Data \n",
        "clase = df.iloc[:,34]; #Target\n",
        "\n",
        "print(clase)"
      ],
      "metadata": {
        "colab": {
          "base_uri": "https://localhost:8080/"
        },
        "id": "19m52snGU7Pv",
        "outputId": "c39fa7c1-e8eb-4866-840e-95a803c73c0e"
      },
      "execution_count": null,
      "outputs": [
        {
          "output_type": "stream",
          "name": "stdout",
          "text": [
            "0      BERHI\n",
            "1      BERHI\n",
            "2      BERHI\n",
            "3      BERHI\n",
            "4      BERHI\n",
            "       ...  \n",
            "893    SOGAY\n",
            "894    SOGAY\n",
            "895    SOGAY\n",
            "896    SOGAY\n",
            "897    SOGAY\n",
            "Name: Class, Length: 898, dtype: object\n"
          ]
        }
      ]
    },
    {
      "cell_type": "code",
      "source": [
        "from sklearn.model_selection import train_test_split\n",
        "features_train, features_test,clase_train, clase_test = train_test_split(features,clase, test_size=0.33, random_state=42)"
      ],
      "metadata": {
        "id": "QT8xM5deVim-"
      },
      "execution_count": null,
      "outputs": []
    },
    {
      "cell_type": "code",
      "source": [
        "#Proprocesamiento : \n",
        "from sklearn.preprocessing import StandardScaler\n",
        "scaler = StandardScaler()\n",
        "scaler.fit(features_train)\n",
        "features_train_scale = scaler.transform(features_train)\n",
        "features_test_scale = scaler.transform(features_test)\n",
        "features_train\n",
        "features_train_scale\n"
      ],
      "metadata": {
        "colab": {
          "base_uri": "https://localhost:8080/"
        },
        "id": "xFq5M4LPVlva",
        "outputId": "b79e14de-683e-4662-9e67-f50c8ab285e9"
      },
      "execution_count": null,
      "outputs": [
        {
          "output_type": "execute_result",
          "data": {
            "text/plain": [
              "array([[ 1.13973176,  1.01398708,  0.98182219, ..., -0.90322293,\n",
              "         0.07589039, -0.10349765],\n",
              "       [ 0.20245022,  0.30047859,  0.26673222, ..., -1.28004033,\n",
              "         0.99512561,  1.1588336 ],\n",
              "       [-0.30662815, -0.19289636,  0.17737262, ..., -0.70367415,\n",
              "         0.73932416,  0.51548483],\n",
              "       ...,\n",
              "       [-0.82677079, -0.72071062, -0.73516578, ...,  0.81003017,\n",
              "         0.0446726 , -0.30644192],\n",
              "       [ 1.32629467,  1.02618756,  1.29070536, ..., -0.68391828,\n",
              "        -0.39440649, -0.51224784],\n",
              "       [-0.82351439, -0.85010629, -0.88160112, ...,  0.21884062,\n",
              "         0.37116589,  0.45906952]])"
            ]
          },
          "metadata": {},
          "execution_count": 95
        }
      ]
    },
    {
      "cell_type": "code",
      "source": [
        "#MLPClassifier and MLPRegressor\n",
        "\n",
        "from sklearn.neural_network import MLPClassifier\n",
        "iterations=5000   # se define la cantidad de iteraciones para el entrenamiento sobre el dataset \n",
        "hidden_layers=[10,10,10]  # Se definen las capas,profundidad de la red neuronal\n",
        "mlp = MLPClassifier(hidden_layer_sizes=(hidden_layers), max_iter=iterations) # un objeto que representa la red neuronal\n",
        "\n",
        "\n",
        "# Datos preprocesados y no los valores originales para fit():\n",
        "mlp.fit(features_train_scale, clase_train)  # fit features sobre la red neuronal"
      ],
      "metadata": {
        "colab": {
          "base_uri": "https://localhost:8080/"
        },
        "id": "qkHwbshgVwFC",
        "outputId": "fbf5350d-e653-440e-b72a-bdcbc1d8cfc2"
      },
      "execution_count": null,
      "outputs": [
        {
          "output_type": "execute_result",
          "data": {
            "text/plain": [
              "MLPClassifier(hidden_layer_sizes=[10, 10, 10], max_iter=5000)"
            ]
          },
          "metadata": {},
          "execution_count": 96
        }
      ]
    },
    {
      "cell_type": "code",
      "source": [
        "## Se ejecutan los datos de prueba en la red para ver los resultados\n",
        " \n",
        "predicted = mlp.predict(features_test_scale)  \n",
        "print(predicted)"
      ],
      "metadata": {
        "colab": {
          "base_uri": "https://localhost:8080/"
        },
        "id": "Q7wvP1McWdjx",
        "outputId": "239e0b3f-5773-4874-f013-18a17071036c"
      },
      "execution_count": null,
      "outputs": [
        {
          "output_type": "stream",
          "name": "stdout",
          "text": [
            "['DOKOL' 'SAFAVI' 'DOKOL' 'SOGAY' 'BERHI' 'DOKOL' 'IRAQI' 'DOKOL' 'DOKOL'\n",
            " 'DEGLET' 'DEGLET' 'DOKOL' 'DOKOL' 'DOKOL' 'ROTANA' 'SOGAY' 'DEGLET'\n",
            " 'SAFAVI' 'DEGLET' 'DEGLET' 'SAFAVI' 'ROTANA' 'DOKOL' 'ROTANA' 'SAFAVI'\n",
            " 'DOKOL' 'IRAQI' 'DEGLET' 'IRAQI' 'SAFAVI' 'SOGAY' 'DOKOL' 'DOKOL' 'IRAQI'\n",
            " 'DEGLET' 'SAFAVI' 'BERHI' 'DOKOL' 'DOKOL' 'SAFAVI' 'DOKOL' 'ROTANA'\n",
            " 'SAFAVI' 'SAFAVI' 'DEGLET' 'DEGLET' 'DEGLET' 'DOKOL' 'DOKOL' 'SAFAVI'\n",
            " 'ROTANA' 'IRAQI' 'DOKOL' 'SOGAY' 'DOKOL' 'ROTANA' 'SOGAY' 'DOKOL' 'DOKOL'\n",
            " 'IRAQI' 'IRAQI' 'DEGLET' 'DOKOL' 'DOKOL' 'DOKOL' 'DEGLET' 'DEGLET'\n",
            " 'DOKOL' 'ROTANA' 'ROTANA' 'DOKOL' 'DEGLET' 'ROTANA' 'SOGAY' 'IRAQI'\n",
            " 'ROTANA' 'DOKOL' 'ROTANA' 'SAFAVI' 'ROTANA' 'DOKOL' 'DOKOL' 'IRAQI'\n",
            " 'ROTANA' 'DOKOL' 'ROTANA' 'DOKOL' 'SAFAVI' 'IRAQI' 'DOKOL' 'DOKOL'\n",
            " 'SAFAVI' 'SAFAVI' 'IRAQI' 'DEGLET' 'DOKOL' 'DOKOL' 'DOKOL' 'DOKOL'\n",
            " 'ROTANA' 'ROTANA' 'IRAQI' 'DOKOL' 'SAFAVI' 'SAFAVI' 'ROTANA' 'IRAQI'\n",
            " 'ROTANA' 'ROTANA' 'DOKOL' 'SAFAVI' 'DOKOL' 'ROTANA' 'ROTANA' 'ROTANA'\n",
            " 'DEGLET' 'DEGLET' 'SAFAVI' 'SAFAVI' 'ROTANA' 'ROTANA' 'DOKOL' 'SAFAVI'\n",
            " 'DEGLET' 'SAFAVI' 'SAFAVI' 'DEGLET' 'DEGLET' 'ROTANA' 'ROTANA' 'DOKOL'\n",
            " 'DEGLET' 'IRAQI' 'ROTANA' 'ROTANA' 'DOKOL' 'ROTANA' 'DOKOL' 'SAFAVI'\n",
            " 'BERHI' 'SAFAVI' 'SAFAVI' 'SAFAVI' 'DEGLET' 'ROTANA' 'SAFAVI' 'DOKOL'\n",
            " 'IRAQI' 'BERHI' 'SAFAVI' 'DEGLET' 'ROTANA' 'ROTANA' 'DEGLET' 'SOGAY'\n",
            " 'SAFAVI' 'ROTANA' 'DEGLET' 'DOKOL' 'IRAQI' 'SAFAVI' 'DOKOL' 'SOGAY'\n",
            " 'SAFAVI' 'BERHI' 'BERHI' 'DOKOL' 'ROTANA' 'DOKOL' 'ROTANA' 'DEGLET'\n",
            " 'SOGAY' 'SAFAVI' 'ROTANA' 'SOGAY' 'SAFAVI' 'BERHI' 'DEGLET' 'BERHI'\n",
            " 'DEGLET' 'SOGAY' 'SAFAVI' 'DOKOL' 'IRAQI' 'DEGLET' 'IRAQI' 'DOKOL'\n",
            " 'BERHI' 'IRAQI' 'SAFAVI' 'IRAQI' 'SAFAVI' 'DOKOL' 'DEGLET' 'DOKOL'\n",
            " 'ROTANA' 'ROTANA' 'ROTANA' 'SAFAVI' 'ROTANA' 'DEGLET' 'SOGAY' 'ROTANA'\n",
            " 'DOKOL' 'SAFAVI' 'SAFAVI' 'SAFAVI' 'ROTANA' 'ROTANA' 'DEGLET' 'ROTANA'\n",
            " 'DEGLET' 'SAFAVI' 'SOGAY' 'DOKOL' 'IRAQI' 'SAFAVI' 'DEGLET' 'ROTANA'\n",
            " 'IRAQI' 'DOKOL' 'DEGLET' 'SAFAVI' 'DOKOL' 'DOKOL' 'IRAQI' 'DOKOL'\n",
            " 'SAFAVI' 'DOKOL' 'ROTANA' 'BERHI' 'DOKOL' 'DEGLET' 'ROTANA' 'DOKOL'\n",
            " 'SOGAY' 'ROTANA' 'SOGAY' 'SAFAVI' 'SAFAVI' 'SAFAVI' 'SAFAVI' 'IRAQI'\n",
            " 'ROTANA' 'IRAQI' 'ROTANA' 'IRAQI' 'SAFAVI' 'SAFAVI' 'DOKOL' 'ROTANA'\n",
            " 'DEGLET' 'DEGLET' 'IRAQI' 'IRAQI' 'IRAQI' 'IRAQI' 'ROTANA' 'DEGLET'\n",
            " 'DOKOL' 'SOGAY' 'DEGLET' 'ROTANA' 'SAFAVI' 'ROTANA' 'SAFAVI' 'SAFAVI'\n",
            " 'DOKOL' 'IRAQI' 'SAFAVI' 'DOKOL' 'DOKOL' 'ROTANA' 'ROTANA' 'DOKOL'\n",
            " 'SOGAY' 'DEGLET' 'DEGLET' 'DOKOL' 'SAFAVI' 'SAFAVI' 'DEGLET' 'SOGAY'\n",
            " 'IRAQI' 'DEGLET' 'DEGLET' 'DOKOL' 'IRAQI' 'ROTANA' 'DOKOL' 'DOKOL'\n",
            " 'ROTANA' 'ROTANA' 'IRAQI' 'DEGLET' 'DOKOL' 'BERHI']\n"
          ]
        }
      ]
    },
    {
      "cell_type": "code",
      "source": [
        "#COnsiderando la matriz de confusion : \n",
        "from sklearn.metrics import confusion_matrix\n",
        "print(confusion_matrix(clase_test,predicted)) \n",
        "\n",
        "# todos los elementos no diagonales son 0 si se obtiene el 100% de precisión\n",
        "plot_confusion_matrix(mlp, features_test_scale, clase_test) \n",
        "plt.show()"
      ],
      "metadata": {
        "colab": {
          "base_uri": "https://localhost:8080/",
          "height": 455
        },
        "id": "UtVVkQUhWxL7",
        "outputId": "c6e5760d-274f-47dd-850f-7e257216f004"
      },
      "execution_count": null,
      "outputs": [
        {
          "output_type": "stream",
          "name": "stdout",
          "text": [
            "[[11  0  0  8  0  0  0]\n",
            " [ 0 24  4  0  0  0  5]\n",
            " [ 0  6 69  0  0  0  0]\n",
            " [ 0  0  0 23  0  0  0]\n",
            " [ 0  1  0  3 54  0  1]\n",
            " [ 0  0  0  0  0 53  0]\n",
            " [ 0 15  0  0  5  3 12]]\n"
          ]
        },
        {
          "output_type": "stream",
          "name": "stderr",
          "text": [
            "/usr/local/lib/python3.7/dist-packages/sklearn/utils/deprecation.py:87: FutureWarning: Function plot_confusion_matrix is deprecated; Function `plot_confusion_matrix` is deprecated in 1.0 and will be removed in 1.2. Use one of the class methods: ConfusionMatrixDisplay.from_predictions or ConfusionMatrixDisplay.from_estimator.\n",
            "  warnings.warn(msg, category=FutureWarning)\n"
          ]
        },
        {
          "output_type": "display_data",
          "data": {
            "text/plain": [
              "<Figure size 432x288 with 2 Axes>"
            ],
            "image/png": "[encoded data removed]"
          },
          "metadata": {
            "needs_background": "light"
          }
        }
      ]
    },
    {
      "cell_type": "code",
      "source": [
        "#Reporte de Clasificacion : \n",
        "\n",
        "from sklearn.metrics import classification_report\n",
        "print(classification_report(clase_test,predicted)) "
      ],
      "metadata": {
        "colab": {
          "base_uri": "https://localhost:8080/"
        },
        "id": "qwTYJOb8XeTG",
        "outputId": "73b8007c-3db4-49c1-bf80-b64aede9a660"
      },
      "execution_count": null,
      "outputs": [
        {
          "output_type": "stream",
          "name": "stdout",
          "text": [
            "              precision    recall  f1-score   support\n",
            "\n",
            "       BERHI       0.66      1.00      0.79        19\n",
            "      DEGLET       0.64      0.48      0.55        33\n",
            "       DOKOL       0.88      0.96      0.92        75\n",
            "       IRAQI       1.00      0.65      0.79        23\n",
            "      ROTANA       0.93      0.93      0.93        59\n",
            "      SAFAVI       0.98      1.00      0.99        53\n",
            "       SOGAY       0.70      0.66      0.68        35\n",
            "\n",
            "    accuracy                           0.85       297\n",
            "   macro avg       0.83      0.81      0.81       297\n",
            "weighted avg       0.85      0.85      0.85       297\n",
            "\n"
          ]
        }
      ]
    },
    {
      "cell_type": "code",
      "source": [
        "from sklearn.metrics import accuracy_score \n",
        "accuracy=accuracy_score(y_true=clase_test, y_pred=predicted)\n",
        "print('Accuracy: %f' % accuracy)\n",
        "\n",
        "\n",
        "from sklearn.metrics import precision_score\n",
        "precision=precision_score(y_true=clase_test, y_pred=predicted, average='macro')\n",
        "print('Precision:', precision)\n",
        "\n",
        "from sklearn.metrics import recall_score\n",
        "recall = recall_score(y_true=clase_test, y_pred=predicted, average = 'micro')\n",
        "print('Recall: %f' % recall)\n",
        "\n",
        "from sklearn.metrics import f1_score\n",
        "f1 = f1_score(y_true=clase_test, y_pred=predicted, average= 'micro')\n",
        "print('F1 score: %f' % f1)\n",
        "\n",
        "from sklearn.metrics import cohen_kappa_score \n",
        "kappa=cohen_kappa_score (y1= clase_test, y2= predicted)\n",
        "print('Cohens kappa: %f' % kappa)"
      ],
      "metadata": {
        "colab": {
          "base_uri": "https://localhost:8080/"
        },
        "id": "gLPY9-v_Xlxw",
        "outputId": "702b863f-4506-4235-a377-7d8e315990e6"
      },
      "execution_count": null,
      "outputs": [
        {
          "output_type": "stream",
          "name": "stdout",
          "text": [
            "Accuracy: 0.851852\n",
            "Precision: 0.8262679660803708\n",
            "Recall: 0.851852\n",
            "F1 score: 0.851852\n",
            "Cohens kappa: 0.820593\n"
          ]
        }
      ]
    }
  ]
}