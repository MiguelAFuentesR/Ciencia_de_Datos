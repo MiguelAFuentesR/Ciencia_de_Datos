{
  "metadata": {
    "colab": {
      "name": "Taller.ipynb",
      "provenance": [],
      "collapsed_sections": []
    },
    "kernelspec": {
      "name": "python",
      "display_name": "Pyolite",
      "language": "python"
    },
    "language_info": {
      "codemirror_mode": {
        "name": "python",
        "version": 3
      },
      "file_extension": ".py",
      "mimetype": "text/x-python",
      "name": "python",
      "nbconvert_exporter": "python",
      "pygments_lexer": "ipython3",
      "version": "3.8"
    }
  },
  "nbformat_minor": 4,
  "nbformat": 4,
  "cells": [
    {
      "cell_type": "markdown",
      "source": "\n# **Taller1- Python: Operadores y estructuras de control**\n<img src=\"https://www.udistrital.edu.co/sites/default/files/contenido-estatico/imagenes/escudo_ud.gif\" align=\"left\" width=\"200px\" height=\"200px\"/>\n\n> Miguel Angel Fuentes Ramirez - **COD. 20182005007**\n\n<br>Scripts Disponibles en : </br>\n[![Miguel Angel Fuentes Ramirez](https://img.shields.io/badge/MiguelAFuentesR-github-br?style=flat-square)](https://github.com/MiguelAFuentesR/Ciencia_de_Datos)\n[![License](https://img.shields.io/badge/license-MIT-green)](https://opensource.org/licenses/MIT)\n\nEste Archivo presenta la explicación paso a paso de la propuesta para la solución del taller, para probar el programa realizarlo en: \n\n[![Miguel Angel Fuentes Ramirez](https://colab.research.google.com/img/colab_favicon.ico)](https://colab.research.google.com/drive/10l_JrdeAQn-4XgGo7pw1Uv32epr5R92v) \n\n\nTrabajo Elaborado para la Asignatura Introducción a la Ciencia de Datos",
      "metadata": {
        "colab_type": "text",
        "id": "rx5bv53yVYsj",
        "tags": []
      }
    },
    {
      "cell_type": "markdown",
      "source": "## Taller\n\n```\nUtilizando la sentencia ELSE en bucles, desarrollar un juego que genere un número entero aleatorio de 0 al 99 y le pida al usuario que lo adivine. El número de intentos debe ser de 10. Al finalizar (adivine o no) se debe indicar si el usuario perdió y se le debe dar un puntaje. Dar pistas.\n```",
      "metadata": {
        "colab_type": "text",
        "id": "LS9ZdVIfY8e5"
      }
    },
    {
      "cell_type": "markdown",
      "source": "## **Desarrollo**",
      "metadata": {
        "colab_type": "text",
        "id": "l_IlAkhrEcVQ"
      }
    },
    {
      "cell_type": "markdown",
      "source": " ## Implementacion de Modulos y Declaración de Variables\nEl Modulo random de python  permite generar números pseudo-random.",
      "metadata": {
        "colab_type": "text",
        "id": "asgebyo96sV3"
      }
    },
    {
      "cell_type": "code",
      "source": "#Primero se genera el numero aleatorio , para ello se importa el modulo random\nimport random as rn\n\n#Generacion de un numero aleatorio entre 0 y 99\nnumero_random = rn.randint(0, 99)\n\n#Se definen las Variables del Programa:\n\nPuntaje = 100\nnumero_usuario = 0\nIntentos = 0",
      "metadata": {
        "colab_type": "code",
        "id": "p34CHk9k7E76",
        "outputId": "3014f212-fc10-4760-fbf7-b290e72216f2",
        "colab": {
          "base_uri": "https://localhost:8080/",
          "height": 34
        },
        "trusted": true
      },
      "execution_count": null,
      "outputs": []
    },
    {
      "cell_type": "markdown",
      "source": "Se emplea una  sentencia ciclica para controlar el numero de intentos del usuario,en esta sentencia se indicara si el usuario ganó o perdio y su respectivo puntaje",
      "metadata": {
        "colab_type": "text",
        "id": "klzwdHjL7fiU"
      }
    },
    {
      "cell_type": "code",
      "source": "#Se utiliza un bucle While que permita controlar el numero de intentos del usuario\n\nwhile Intentos < 10 and numero_usuario != numero_random:\n     \n    numero_usuario = int(input(\"Intenta a Adivinar que número eligió tu PC: \\n\"))\n    Intentos = Intentos+1 ",
      "metadata": {
        "id": "b6XviwAdJrAO",
        "colab_type": "code",
        "colab": {},
        "trusted": true
      },
      "execution_count": null,
      "outputs": []
    },
    {
      "cell_type": "markdown",
      "source": "Con esta sentencia se controla si el usuario llega al limite de bucles para imprimir el mensaje de puntuación y verificar si pierde , tambien se generan las pistas para el usuario y se actualiza la puntuación luego de ejecutar el bloque . ",
      "metadata": {
        "id": "DK1OoYNBJKxr",
        "colab_type": "text"
      }
    },
    {
      "cell_type": "code",
      "source": "   #Se controla el numero de intentos para la impresión de pistas\n    if Intentos !=10:\n        #Se compara si el número ingresado es igual al random\n        if numero_usuario == numero_random :  \n            print(\"\\n ¡¡¡¡¡ Felicidades Adivinaste !!!!! \")      \n            break #Se rompe el bucle si se adivina el número\n        #Se compara si el número ingresado es menor al random\n        elif (numero_usuario < numero_random):\n            print(\"\\n Oh no .. Casi lo logras ! , El numero random es mayor a \",numero_usuario)\n            print('\\n Te quedan ',10-Intentos,\" Intentos\")\n        #Se compara si el número ingresado es mayor al random\n        elif (numero_usuario > numero_random):\n            print(\"\\n Oh no .. Casi lo logras ! , El numero random es menor a \",numero_usuario)\n            print('\\n Te quedan ',10-Intentos,\" Intentos\")              \n    #Se resta 10 puntos por cada intento perdido\n    Puntaje = Puntaje-10",
      "metadata": {
        "id": "QjSh6YHXJdLn",
        "colab_type": "code",
        "colab": {},
        "trusted": true
      },
      "execution_count": null,
      "outputs": []
    },
    {
      "cell_type": "markdown",
      "source": "Con el ELSE del iterador se determina que el usuario perdio ya que utilizo todos los intentos posibles",
      "metadata": {
        "id": "HEftT6PbJ8gN",
        "colab_type": "text"
      }
    },
    {
      "cell_type": "code",
      "source": "#Se determina que el usuario perdio ya que utilizo todos los intentos posibles\nelse:\n\n    print(\"¡¡¡¡¡ Perdiste !!!!! :( \")",
      "metadata": {
        "colab_type": "code",
        "id": "dMa77Gfl7pPA",
        "outputId": "6b42d259-c1e9-456c-f8b4-2b064829a6f8",
        "colab": {
          "base_uri": "https://localhost:8080/",
          "height": 260
        },
        "trusted": true
      },
      "execution_count": null,
      "outputs": []
    },
    {
      "cell_type": "markdown",
      "source": "Se Termina el juego y se imprime el puntaje que logro el jugador . ",
      "metadata": {
        "colab_type": "text",
        "id": "GCukJgF28JjK"
      }
    },
    {
      "cell_type": "code",
      "source": "print(\"Lograste un Puntaje de :\", Puntaje ,\"Puntos de 100,  El número random era : \",numero_random)   ",
      "metadata": {
        "colab_type": "code",
        "id": "D1wgMp0mZE9g",
        "outputId": "20d4f2a9-6dbd-4017-b3d6-c3159f447f07",
        "colab": {
          "base_uri": "https://localhost:8080/",
          "height": 52
        },
        "trusted": true
      },
      "execution_count": null,
      "outputs": []
    }
  ]
}