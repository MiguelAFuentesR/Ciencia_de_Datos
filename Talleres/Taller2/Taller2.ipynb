{
  "metadata": {
    "language_info": {
      "codemirror_mode": {
        "name": "python",
        "version": 3
      },
      "file_extension": ".py",
      "mimetype": "text/x-python",
      "name": "python",
      "nbconvert_exporter": "python",
      "pygments_lexer": "ipython3",
      "version": "3.8"
    },
    "kernelspec": {
      "name": "python",
      "display_name": "Pyolite",
      "language": "python"
    }
  },
  "nbformat_minor": 4,
  "nbformat": 4,
  "cells": [
    {
      "cell_type": "markdown",
      "source": "\n# **Taller2- Numpy: Indexing - Slicing**\n<img src=\"https://www.udistrital.edu.co/sites/default/files/contenido-estatico/imagenes/escudo_ud.gif\" align=\"left\" width=\"200px\" height=\"200px\"/>\n\n> Miguel Angel Fuentes Ramirez - **COD. 20182005007**\n\n<br>Scripts Disponibles en : </br>\n[![Miguel Angel Fuentes Ramirez](https://img.shields.io/badge/MiguelAFuentesR-github-br?style=flat-square)](https://github.com/MiguelAFuentesR/Ciencia_de_Datos)\n[![License](https://img.shields.io/badge/license-MIT-green)](https://opensource.org/licenses/MIT)\n\nEste Archivo presenta la explicación paso a paso de la propuesta para la solución del taller, para probar el programa realizarlo en: \n\n[![Miguel Angel Fuentes Ramirez](https://colab.research.google.com/img/colab_favicon.ico)](https://colab.research.google.com/drive/12NHJuykQ1nOGyvPWciyoRm4dhs_8lFod) \n\n\nTrabajo Elaborado para la Asignatura Introducción a la Ciencia de Datos",
      "metadata": {
        "colab_type": "text",
        "id": "rx5bv53yVYsj",
        "tags": []
      }
    },
    {
      "cell_type": "markdown",
      "source": "## Taller\n\n```\nGenerar un arreglo tridimensional de tamaño 9x9x9 con los números enteros del 0 al 728.\nImaginar que el arreglo se divide en 27 arreglos de 3x3x3; desarrollar una función que permita intercambiar la posición de dos de estos bloques, pasándole como argumento únicamente la identificación de los bloques a intercambiar (los bloques se deben identificar con números del 0 al 26).\n```",
      "metadata": {
        "colab_type": "text",
        "id": "LS9ZdVIfY8e5",
        "tags": []
      }
    },
    {
      "cell_type": "markdown",
      "source": "## **Desarrollo**",
      "metadata": {
        "colab_type": "text",
        "id": "l_IlAkhrEcVQ"
      }
    },
    {
      "cell_type": "markdown",
      "source": " ## Implementacion de Modulos y Declaración de Variables\nSe utiliza numpy para la creación y manipulación de arreglos.",
      "metadata": {
        "colab_type": "text",
        "id": "asgebyo96sV3"
      }
    },
    {
      "cell_type": "code",
      "source": "import numpy as np\n\n#Se crea el arreglo tridimensional \n\nArreglo_Tridimensional = np.arange(729).reshape(9, 9, 9)\n",
      "metadata": {
        "trusted": true
      },
      "execution_count": 2,
      "outputs": []
    },
    {
      "cell_type": "markdown",
      "source": "Se desarrollan las funciones necesarias para el intercambio de posiciones : ",
      "metadata": {}
    },
    {
      "cell_type": "code",
      "source": "#----------------------------Funciones----------------------------\n\n# Esta funcion delimita los ejes x,y,z del cubo\ndef ejes(fila, columna, eje_z):\n    # x\n    x = np.arange(fila*3, fila*3+3, 1)\n    # y\n    y = np.arange(columna*3, columna*3+3, 1)\n    # z\n    z = np.arange(eje_z*3, eje_z*3+3, 1)\n    return x, y, z\n\n# Se reemplazan los datos de posicion a posicion \ndef Reemplazo_Posicion(nums, id_remplazo, z):\n    for i, val in enumerate(nums):\n        z[id_remplazo[i][0], id_remplazo[i]\n            [1], id_remplazo[i][2]] = val\n\n\n# crear un nuevo arreglo:\ndef cb(m1, m2, m3):\n    return np.array(np.meshgrid(m1, m2, m3)).T.reshape(-1, 3)\n\n\n# Crear una copia que mantiene los datos que se reemplazaran primero\ndef copia(id, z):\n    copia = []\n    for i in id:\n        copia.append(z.item(*i))\n    return copia",
      "metadata": {
        "trusted": true
      },
      "execution_count": 3,
      "outputs": []
    },
    {
      "cell_type": "markdown",
      "source": " Se Implementa la lectura de datos para el intercambio de las posiones , para manejar estas primero se crean unos sub identificadores relacionados a los 27 arreglos de 3x3 .",
      "metadata": {}
    },
    {
      "cell_type": "code",
      "source": "#------------------------------- Implementacion ---------------------------\n\nSubidentificadores = np.array([[0, 0, 0],[0, 0, 1],[0, 0, 2],[0, 1, 0],[0, 2, 2],[0, 2, 3],\n               [0, 2, 0],[0, 2, 1],[0, 2, 2],[1, 0, 0],[1, 0, 1],[1, 0, 2],\n               [1, 1, 0],[1, 1, 1],[1, 1, 2],[1, 2, 0],[1, 2, 1],[1, 2, 2],\n               [2, 0, 0],[2, 0, 1],[2, 0, 2],[2, 1, 0],[2, 1, 1],[2, 1, 2],\n               [2, 2, 0],[2, 2, 1],[2, 2, 2] ])\nPosicion_Inicial = int(input('Ingrese Identificador del Bloque 1 : '))\nPosicion_Final = int(input('Ingrese Identificador del Bloque 2:'))",
      "metadata": {
        "tags": [],
        "trusted": true
      },
      "execution_count": 5,
      "outputs": []
    },
    {
      "cell_type": "markdown",
      "source": "Con los Valores ingresados de los bloques que se deben intercambiar , primero se procede ubicar los datos dentro del arreglo tridimensional y determinar la posicion de este en los ejes x,y,z empleando la funcion llamada ejes.",
      "metadata": {}
    },
    {
      "cell_type": "code",
      "source": "# Ubicar un limite en las tres posiciones x,y,z con los identificadores\nx, y, z = ejes(*Subidentificadores[Posicion_Inicial])\n\n#Se realiza la conversion para utilizar identificadores en la posicion 1 \nconversion_1 = cb(x, y, z)\ncopia1 = copia(conversion_1 , Arreglo_Tridimensional)",
      "metadata": {
        "scrolled": true,
        "tags": [],
        "trusted": true
      },
      "execution_count": null,
      "outputs": []
    },
    {
      "cell_type": "markdown",
      "source": "Se realiza el mismo procedimiento con el Bloque 2: ",
      "metadata": {}
    },
    {
      "cell_type": "code",
      "source": "# Ubicar un limite en las tres posiciones x,y,z con los identificadores\n\nx_2, y_2, z_2 = ejes(*Subidentificadores[Posicion_Final])\n\n#Se realiza la conversion para utilizar identificadores en la posicion 2\nconversion_2 = cb(x_2, y_2, z_2)\ncopia2 = copia(conversion_2, Arreglo_Tridimensional)\n",
      "metadata": {},
      "execution_count": null,
      "outputs": []
    },
    {
      "cell_type": "markdown",
      "source": "Finalmente se reemplazan los valores obtenidos en el arreglo Tridimensional ",
      "metadata": {}
    },
    {
      "cell_type": "code",
      "source": "# Se Reemplaza las posiciones \nReemplazo_Posicion(copia1, conversion_2, Arreglo_Tridimensional)\nReemplazo_Posicion(copia2, conversion_1, Arreglo_Tridimensional)\n\n# Resultado \nprint(Arreglo_Tridimensional) ",
      "metadata": {},
      "execution_count": null,
      "outputs": []
    }
  ]
}